{
 "cells": [
  {
   "cell_type": "code",
   "execution_count": 33,
   "metadata": {
    "collapsed": true
   },
   "outputs": [],
   "source": [
    "class multimethod:\n",
    "    def __init__(self, dispatcher):\n",
    "        self._dispatch = dispatcher\n",
    "        self._methods = []\n",
    "\n",
    "    def __call__(self, *args, **kwargs):\n",
    "        dispatch = self._dispatch(*args, **kwargs)\n",
    "        for (specs, kwspecs, method) in self._methods:\n",
    "            if dispatch(*specs, **kwspecs):\n",
    "                return method(*args, **kwargs)\n",
    "\n",
    "    def add_method(self, specs, kwspecs,  method):\n",
    "        self._methods.append((specs, kwspecs, method))\n",
    "\n",
    "def method(generic, *specs, **kwspecs):\n",
    "    def decorator(method):\n",
    "        generic.add_method(specs, kwspecs, method)\n",
    "        return generic\n",
    "    return decorator\n",
    "\n",
    "def type_dispatch(*args, **kwargs):\n",
    "    def dispatcher(*targs, **kwtargs):\n",
    "        posdispatch = all(map(isinstance, args, targs))\n",
    "        kwdispatch = all(isinstance(x,kwtargs[kx]) for (kx,x) in kwargs.items())\n",
    "        return posdispatch and kwdispatch\n",
    "    return dispatcher\n",
    "\n",
    "def key_dispatch(key, *args, **kwargs):\n",
    "    def dispatcher(*values, **kwvalues):\n",
    "        posdispatch = all(arg[key] == value for (arg, value) in zip(args, values))\n",
    "        kwdispatch = all(arg[key] == kwvalues[karg] for (karg, arg) in kwargs.items())\n",
    "        return posdispatch and kwdispatch\n",
    "    return dispatcher\n",
    "    "
   ]
  },
  {
   "cell_type": "code",
   "execution_count": 28,
   "metadata": {
    "collapsed": true
   },
   "outputs": [],
   "source": [
    "@multimethod\n",
    "def add(x,y):\n",
    "    return type_dispatch(x,y)"
   ]
  },
  {
   "cell_type": "code",
   "execution_count": 29,
   "metadata": {
    "collapsed": false
   },
   "outputs": [],
   "source": [
    "@method(add, int, int)\n",
    "def add(x,y):\n",
    "    return x + y"
   ]
  },
  {
   "cell_type": "code",
   "execution_count": 30,
   "metadata": {
    "collapsed": false
   },
   "outputs": [
    {
     "data": {
      "text/plain": [
       "3"
      ]
     },
     "execution_count": 30,
     "metadata": {},
     "output_type": "execute_result"
    }
   ],
   "source": [
    "add(1,2)"
   ]
  },
  {
   "cell_type": "code",
   "execution_count": 31,
   "metadata": {
    "collapsed": true
   },
   "outputs": [],
   "source": [
    "@method(add, int, str)\n",
    "def add(x,y):\n",
    "    return x+int(y)"
   ]
  },
  {
   "cell_type": "code",
   "execution_count": 32,
   "metadata": {
    "collapsed": false
   },
   "outputs": [
    {
     "data": {
      "text/plain": [
       "11"
      ]
     },
     "execution_count": 32,
     "metadata": {},
     "output_type": "execute_result"
    }
   ],
   "source": [
    "add(1,\"10\")"
   ]
  },
  {
   "cell_type": "code",
   "execution_count": 35,
   "metadata": {
    "collapsed": true
   },
   "outputs": [],
   "source": [
    "@multimethod\n",
    "def say(x, y):\n",
    "    return key_dispatch(\"type\", x, y)"
   ]
  },
  {
   "cell_type": "code",
   "execution_count": 37,
   "metadata": {
    "collapsed": false
   },
   "outputs": [],
   "source": [
    "@method(say, \"person\", \"person\")\n",
    "def say(x,y):\n",
    "    return \"I say '{}', you say '{}'\".format(x.get(\"what\"), y.get(\"what\"))"
   ]
  },
  {
   "cell_type": "code",
   "execution_count": 38,
   "metadata": {
    "collapsed": false
   },
   "outputs": [
    {
     "data": {
      "text/plain": [
       "\"I say 'Hello!', you say 'goodbye!'\""
      ]
     },
     "execution_count": 38,
     "metadata": {},
     "output_type": "execute_result"
    }
   ],
   "source": [
    "say({\"type\": \"person\", \"what\": \"Hello!\"}, {\"type\": \"person\", \"what\": \"goodbye!\"})"
   ]
  },
  {
   "cell_type": "code",
   "execution_count": 39,
   "metadata": {
    "collapsed": true
   },
   "outputs": [],
   "source": [
    "@method(say, \"person\", \"robot\")\n",
    "def say(x,y):\n",
    "    return \"I say '{}', you say 'bip boop {} bip boop'\".format(x.get(\"what\"), y.get(\"what\"))"
   ]
  },
  {
   "cell_type": "code",
   "execution_count": 41,
   "metadata": {
    "collapsed": false
   },
   "outputs": [
    {
     "data": {
      "text/plain": [
       "\"I say 'Hello!', you say 'bip boop GOODBYE! bip boop'\""
      ]
     },
     "execution_count": 41,
     "metadata": {},
     "output_type": "execute_result"
    }
   ],
   "source": [
    "say({\"type\": \"person\", \"what\": \"Hello!\"}, {\"type\": \"robot\", \"what\": \"GOODBYE!\"})"
   ]
  },
  {
   "cell_type": "code",
   "execution_count": null,
   "metadata": {
    "collapsed": true
   },
   "outputs": [],
   "source": []
  }
 ],
 "metadata": {
  "kernelspec": {
   "display_name": "env",
   "language": "python",
   "name": "env"
  },
  "language_info": {
   "codemirror_mode": {
    "name": "ipython",
    "version": 3
   },
   "file_extension": ".py",
   "mimetype": "text/x-python",
   "name": "python",
   "nbconvert_exporter": "python",
   "pygments_lexer": "ipython3",
   "version": "3.6.2"
  }
 },
 "nbformat": 4,
 "nbformat_minor": 2
}
